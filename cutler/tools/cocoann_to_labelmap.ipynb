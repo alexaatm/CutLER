{
 "cells": [
  {
   "cell_type": "code",
   "execution_count": 1,
   "metadata": {},
   "outputs": [],
   "source": [
    "import os\n",
    "import json\n",
    "import tqdm\n",
    "import torch\n",
    "import datetime\n",
    "import argparse\n",
    "import pycocotools.mask as cocomask\n",
    "from detectron2.utils.file_io import PathManager"
   ]
  },
  {
   "cell_type": "code",
   "execution_count": 32,
   "metadata": {},
   "outputs": [],
   "source": [
    "import numpy as np\n",
    "from PIL import Image\n",
    "import matplotlib.patches as mpatches\n",
    "import matplotlib.pyplot as plt"
   ]
  },
  {
   "cell_type": "code",
   "execution_count": 3,
   "metadata": {},
   "outputs": [],
   "source": [
    "INFO = {\n",
    "    \"description\": \"ImageNet-1K: Self-train\",\n",
    "    \"url\": \"\",\n",
    "    \"version\": \"1.0\",\n",
    "    \"year\": 2022,\n",
    "    \"contributor\": \"Xudong Wang\",\n",
    "    \"date_created\": datetime.datetime.utcnow().isoformat(' ')\n",
    "}\n",
    "\n",
    "LICENSES = [\n",
    "    {\n",
    "        \"id\": 1,\n",
    "        \"name\": \"Apache License\",\n",
    "        \"url\": \"https://github.com/facebookresearch/CutLER/blob/main/LICENSE\"\n",
    "    }\n",
    "]\n",
    "\n",
    "CATEGORIES = [\n",
    "    {\n",
    "        'id': 1,\n",
    "        'name': 'fg',\n",
    "        'supercategory': 'fg',\n",
    "    },\n",
    "]\n",
    "\n",
    "new_dict_filtered = {\n",
    "    \"info\": INFO,\n",
    "    \"licenses\": LICENSES,\n",
    "    \"categories\": CATEGORIES,\n",
    "    \"images\": [],\n",
    "    \"annotations\": []\n",
    "}\n",
    "\n",
    "category_info = {\n",
    "    \"is_crowd\": 0,\n",
    "    \"id\": 1\n",
    "}"
   ]
  },
  {
   "cell_type": "code",
   "execution_count": 4,
   "metadata": {},
   "outputs": [],
   "source": [
    "def segmToRLE(segm, h, w):\n",
    "    if isinstance(segm, list):\n",
    "        # polygon -- a single object might consist of multiple parts\n",
    "        # we merge all parts into one mask rle code\n",
    "        rles = cocomask.frPyObjects(segm, h, w)\n",
    "        rle = cocomask.merge(rles)\n",
    "    elif isinstance(segm[\"counts\"], list):\n",
    "        # uncompressed RLE\n",
    "        rle = cocomask.frPyObjects(segm, h, w)\n",
    "    else:\n",
    "        # rle\n",
    "        rle = segm\n",
    "    return rle\n",
    "\n",
    "def rle2mask(rle, height, width):\n",
    "    if \"counts\" in rle and isinstance(rle[\"counts\"], list):\n",
    "        # if compact RLE, ignore this conversion\n",
    "        # Magic RLE format handling painfully discovered by looking at the\n",
    "        # COCO API showAnns function.\n",
    "        rle = cocomask.frPyObjects(rle, height, width)\n",
    "    mask = cocomask.decode(rle)\n",
    "    return mask\n",
    "\n",
    "def cocosegm2mask(segm, h, w):\n",
    "    rle = segmToRLE(segm, h, w)\n",
    "    mask = rle2mask(rle, h, w)\n",
    "    return mask"
   ]
  },
  {
   "cell_type": "code",
   "execution_count": 5,
   "metadata": {},
   "outputs": [],
   "source": [
    "# if __name__ == \"__main__\":\n",
    "# load model arguments\n",
    "    # parser = argparse.ArgumentParser(description='Generate labelmaps from json files')\n",
    "    # parser.add_argument('--ann', type=str, \n",
    "    #                     default='DETECTRON2_DATASETS/carotid-mini/annotations/imagenet_train_fixsize480_tau0.15_N3.json',\n",
    "    #                     help='Path to maskcut annotation or model predictions')\n",
    "    # parser.add_argument('--dataset', type=str,    \n",
    "    #                       default='DETECTRON2_DATASETS/carotid-mini/images',\n",
    "    #                     help='Path to the dataset')\n",
    "    # parser.add_argument('--save_path', type=str,\n",
    "    #                     default='DETECTRON2_DATASETS/carotid-mini/labelmaps',\n",
    "    #                     help='Path to save the generated labelmaps')\n",
    "    # parser.add_argument('--threshold', type=float, default=0.5,\n",
    "    #                     help='Confidence score thresholds')\n",
    "    # args = parser.parse_args()"
   ]
  },
  {
   "cell_type": "code",
   "execution_count": 6,
   "metadata": {},
   "outputs": [],
   "source": [
    "DETECTRON2_DATASETS=\"/home/guests/oleksandra_tmenova/test/project/thesis-codebase/data\"\n"
   ]
  },
  {
   "cell_type": "code",
   "execution_count": 40,
   "metadata": {},
   "outputs": [],
   "source": [
    "ann_path = DETECTRON2_DATASETS+'/carotid-mini/annotations/imagenet_train_fixsize480_tau0.15_N3.json'\n",
    "# ann_path =\"/home/guests/oleksandra_tmenova/test/project/thesis-codebase/data/carotid-mini/annotations/imagenet_train_fixsize480_tau0.15_N3.json\""
   ]
  },
  {
   "cell_type": "code",
   "execution_count": 45,
   "metadata": {},
   "outputs": [],
   "source": [
    "save_path = DETECTRON2_DATASETS + \"/carotid-mini/labelmaps2\""
   ]
  },
  {
   "cell_type": "code",
   "execution_count": 46,
   "metadata": {},
   "outputs": [
    {
     "data": {
      "text/plain": [
       "'/home/guests/oleksandra_tmenova/test/project/thesis-codebase/data/carotid-mini/labelmaps2'"
      ]
     },
     "execution_count": 46,
     "metadata": {},
     "output_type": "execute_result"
    }
   ],
   "source": [
    "save_path"
   ]
  },
  {
   "cell_type": "code",
   "execution_count": 47,
   "metadata": {},
   "outputs": [],
   "source": [
    "dataset_path = DETECTRON2_DATASETS + '/carotid-mini/images'"
   ]
  },
  {
   "cell_type": "code",
   "execution_count": 48,
   "metadata": {},
   "outputs": [],
   "source": [
    "if not os.path.exists(save_path):\n",
    "    os.makedirs(save_path)"
   ]
  },
  {
   "cell_type": "code",
   "execution_count": null,
   "metadata": {},
   "outputs": [],
   "source": []
  },
  {
   "cell_type": "code",
   "execution_count": 49,
   "metadata": {},
   "outputs": [],
   "source": [
    "# load annotations\n",
    "# ann_dict = json.load(open(ann_path))\n",
    "with PathManager.open(ann_path, \"r\") as f:\n",
    "    ann_dict = json.load(f)\n",
    "image_list = ann_dict['images']\n",
    "annotations = ann_dict['annotations']"
   ]
  },
  {
   "cell_type": "code",
   "execution_count": 60,
   "metadata": {},
   "outputs": [
    {
     "data": {
      "text/plain": [
       "[{'id': 1,\n",
       "  'file_name': 'train/img0001.jpg',\n",
       "  'width': 256,\n",
       "  'height': 256,\n",
       "  'date_captured': '2023-08-29 11:47:27.705046',\n",
       "  'license': 1,\n",
       "  'coco_url': '',\n",
       "  'flickr_url': ''},\n",
       " {'id': 2,\n",
       "  'file_name': 'train/img0025.jpg',\n",
       "  'width': 256,\n",
       "  'height': 256,\n",
       "  'date_captured': '2023-08-29 11:47:27.705046',\n",
       "  'license': 1,\n",
       "  'coco_url': '',\n",
       "  'flickr_url': ''},\n",
       " {'id': 3,\n",
       "  'file_name': 'train/img0034.jpg',\n",
       "  'width': 256,\n",
       "  'height': 256,\n",
       "  'date_captured': '2023-08-29 11:47:27.705046',\n",
       "  'license': 1,\n",
       "  'coco_url': '',\n",
       "  'flickr_url': ''},\n",
       " {'id': 4,\n",
       "  'file_name': 'train/img0042.jpg',\n",
       "  'width': 256,\n",
       "  'height': 256,\n",
       "  'date_captured': '2023-08-29 11:47:27.705046',\n",
       "  'license': 1,\n",
       "  'coco_url': '',\n",
       "  'flickr_url': ''},\n",
       " {'id': 5,\n",
       "  'file_name': 'train/img0066.jpg',\n",
       "  'width': 256,\n",
       "  'height': 256,\n",
       "  'date_captured': '2023-08-29 11:47:27.705046',\n",
       "  'license': 1,\n",
       "  'coco_url': '',\n",
       "  'flickr_url': ''},\n",
       " {'id': 6,\n",
       "  'file_name': 'train/img0145.jpg',\n",
       "  'width': 256,\n",
       "  'height': 256,\n",
       "  'date_captured': '2023-08-29 11:47:27.705046',\n",
       "  'license': 1,\n",
       "  'coco_url': '',\n",
       "  'flickr_url': ''},\n",
       " {'id': 7,\n",
       "  'file_name': 'train/img0186.jpg',\n",
       "  'width': 256,\n",
       "  'height': 256,\n",
       "  'date_captured': '2023-08-29 11:47:27.705046',\n",
       "  'license': 1,\n",
       "  'coco_url': '',\n",
       "  'flickr_url': ''},\n",
       " {'id': 8,\n",
       "  'file_name': 'train/img0222.jpg',\n",
       "  'width': 256,\n",
       "  'height': 256,\n",
       "  'date_captured': '2023-08-29 11:47:27.705046',\n",
       "  'license': 1,\n",
       "  'coco_url': '',\n",
       "  'flickr_url': ''},\n",
       " {'id': 9,\n",
       "  'file_name': 'train/img0276.jpg',\n",
       "  'width': 256,\n",
       "  'height': 256,\n",
       "  'date_captured': '2023-08-29 11:47:27.705046',\n",
       "  'license': 1,\n",
       "  'coco_url': '',\n",
       "  'flickr_url': ''},\n",
       " {'id': 10,\n",
       "  'file_name': 'train/img0307.jpg',\n",
       "  'width': 256,\n",
       "  'height': 256,\n",
       "  'date_captured': '2023-08-29 11:47:27.705046',\n",
       "  'license': 1,\n",
       "  'coco_url': '',\n",
       "  'flickr_url': ''},\n",
       " {'id': 11,\n",
       "  'file_name': 'train/img0322.jpg',\n",
       "  'width': 256,\n",
       "  'height': 256,\n",
       "  'date_captured': '2023-08-29 11:47:27.705046',\n",
       "  'license': 1,\n",
       "  'coco_url': '',\n",
       "  'flickr_url': ''},\n",
       " {'id': 12,\n",
       "  'file_name': 'train/img0472.jpg',\n",
       "  'width': 256,\n",
       "  'height': 256,\n",
       "  'date_captured': '2023-08-29 11:47:27.705046',\n",
       "  'license': 1,\n",
       "  'coco_url': '',\n",
       "  'flickr_url': ''},\n",
       " {'id': 13,\n",
       "  'file_name': 'train/img0487.jpg',\n",
       "  'width': 256,\n",
       "  'height': 256,\n",
       "  'date_captured': '2023-08-29 11:47:27.705046',\n",
       "  'license': 1,\n",
       "  'coco_url': '',\n",
       "  'flickr_url': ''},\n",
       " {'id': 14,\n",
       "  'file_name': 'train/img0591.jpg',\n",
       "  'width': 256,\n",
       "  'height': 256,\n",
       "  'date_captured': '2023-08-29 11:47:27.705046',\n",
       "  'license': 1,\n",
       "  'coco_url': '',\n",
       "  'flickr_url': ''},\n",
       " {'id': 15,\n",
       "  'file_name': 'train/img1316.jpg',\n",
       "  'width': 256,\n",
       "  'height': 256,\n",
       "  'date_captured': '2023-08-29 11:47:27.705046',\n",
       "  'license': 1,\n",
       "  'coco_url': '',\n",
       "  'flickr_url': ''},\n",
       " {'id': 16,\n",
       "  'file_name': 'train/img1512.jpg',\n",
       "  'width': 256,\n",
       "  'height': 256,\n",
       "  'date_captured': '2023-08-29 11:47:27.705046',\n",
       "  'license': 1,\n",
       "  'coco_url': '',\n",
       "  'flickr_url': ''},\n",
       " {'id': 17,\n",
       "  'file_name': 'train/img1812.jpg',\n",
       "  'width': 256,\n",
       "  'height': 256,\n",
       "  'date_captured': '2023-08-29 11:47:27.705046',\n",
       "  'license': 1,\n",
       "  'coco_url': '',\n",
       "  'flickr_url': ''},\n",
       " {'id': 18,\n",
       "  'file_name': 'train/img2157.jpg',\n",
       "  'width': 256,\n",
       "  'height': 256,\n",
       "  'date_captured': '2023-08-29 11:47:27.705046',\n",
       "  'license': 1,\n",
       "  'coco_url': '',\n",
       "  'flickr_url': ''}]"
      ]
     },
     "execution_count": 60,
     "metadata": {},
     "output_type": "execute_result"
    }
   ],
   "source": [
    "image_list"
   ]
  },
  {
   "cell_type": "code",
   "execution_count": 62,
   "metadata": {},
   "outputs": [],
   "source": [
    "# create id to filename mapping\n",
    "id_to_filename = {}\n",
    "for image_data in image_list:\n",
    "    full_file_name = image_data['file_name']\n",
    "    base_name = os.path.splitext(os.path.basename(full_file_name))[0]\n",
    "    id_to_filename[image_data['id']] = base_name"
   ]
  },
  {
   "cell_type": "code",
   "execution_count": 51,
   "metadata": {},
   "outputs": [],
   "source": [
    "# group annotations by images in a new dictionary\n",
    "image_to_anns = {}\n",
    "for id, ann in enumerate(annotations):\n",
    "    if ann['image_id'] in image_to_anns:\n",
    "        image_to_anns[ann['image_id']].append(ann)\n",
    "    else:\n",
    "        image_to_anns[ann['image_id']] = [ann]"
   ]
  },
  {
   "cell_type": "code",
   "execution_count": 63,
   "metadata": {},
   "outputs": [],
   "source": [
    "# image_to_anns"
   ]
  },
  {
   "cell_type": "code",
   "execution_count": 53,
   "metadata": {},
   "outputs": [],
   "source": [
    "image_to_labelmaps = {}"
   ]
  },
  {
   "cell_type": "code",
   "execution_count": 54,
   "metadata": {},
   "outputs": [],
   "source": [
    "def masks2labelmap(masks: list, h: int, w: int):\n",
    "    # print(len(masks))\n",
    "    labelmap = np.zeros((h, w), dtype=int) #Check if order h, w is correct\n",
    "    label = 1 #start from 1, to leave 0 be a background index in the labelmap\n",
    "    # n_0s = 0\n",
    "    # n_1s = 0\n",
    "    for mask in masks:\n",
    "        # n_0s = n_0s + (mask==0).sum()\n",
    "        # n_1s = n_1s + (mask==1).sum()\n",
    "        # print(mask.shape, \"0s:\", (mask==0).sum(),\"1s:\", (mask==1).sum())\n",
    "        labelmap[mask==1] = label\n",
    "        label = label + 1\n",
    "    print(\"Labelmap: 0s:\", (labelmap==0).sum(),\"1s:\", (labelmap==1).sum(), \"2s:\", (labelmap==2).sum())\n",
    "    return labelmap"
   ]
  },
  {
   "cell_type": "code",
   "execution_count": 64,
   "metadata": {},
   "outputs": [
    {
     "name": "stderr",
     "output_type": "stream",
     "text": [
      "  0%|          | 0/18 [00:00<?, ?it/s]\n"
     ]
    },
    {
     "name": "stdout",
     "output_type": "stream",
     "text": [
      "Labelmap: 0s: 43366 1s: 13939 2s: 8231\n"
     ]
    },
    {
     "ename": "FileNotFoundError",
     "evalue": "[Errno 2] No such file or directory: '/home/guests/oleksandra_tmenova/test/project/thesis-codebase/data/carotid-mini/labelmaps2/img0001.png'",
     "output_type": "error",
     "traceback": [
      "\u001b[0;31m---------------------------------------------------------------------------\u001b[0m",
      "\u001b[0;31mFileNotFoundError\u001b[0m                         Traceback (most recent call last)",
      "Cell \u001b[0;32mIn[64], line 31\u001b[0m\n\u001b[1;32m     28\u001b[0m labelmap_im \u001b[39m=\u001b[39m Image\u001b[39m.\u001b[39mfromarray(labelmap\u001b[39m.\u001b[39mastype(np\u001b[39m.\u001b[39muint8))\u001b[39m.\u001b[39mconvert(\u001b[39m'\u001b[39m\u001b[39mL\u001b[39m\u001b[39m'\u001b[39m)\n\u001b[1;32m     29\u001b[0m \u001b[39m# labelmap_im = Image.fromarray(np.uint8(labelmap*255)).convert('L')\u001b[39;00m\n\u001b[1;32m     30\u001b[0m \u001b[39m# print(labelmap_im)\u001b[39;00m\n\u001b[0;32m---> 31\u001b[0m labelmap_im\u001b[39m.\u001b[39;49msave(output_file)\n",
      "File \u001b[0;32m~/test/project/.venv/lib/python3.8/site-packages/PIL/Image.py:2410\u001b[0m, in \u001b[0;36mImage.save\u001b[0;34m(self, fp, format, **params)\u001b[0m\n\u001b[1;32m   2408\u001b[0m         fp \u001b[39m=\u001b[39m builtins\u001b[39m.\u001b[39mopen(filename, \u001b[39m\"\u001b[39m\u001b[39mr+b\u001b[39m\u001b[39m\"\u001b[39m)\n\u001b[1;32m   2409\u001b[0m     \u001b[39melse\u001b[39;00m:\n\u001b[0;32m-> 2410\u001b[0m         fp \u001b[39m=\u001b[39m builtins\u001b[39m.\u001b[39;49mopen(filename, \u001b[39m\"\u001b[39;49m\u001b[39mw+b\u001b[39;49m\u001b[39m\"\u001b[39;49m)\n\u001b[1;32m   2412\u001b[0m \u001b[39mtry\u001b[39;00m:\n\u001b[1;32m   2413\u001b[0m     save_handler(\u001b[39mself\u001b[39m, fp, filename)\n",
      "\u001b[0;31mFileNotFoundError\u001b[0m: [Errno 2] No such file or directory: '/home/guests/oleksandra_tmenova/test/project/thesis-codebase/data/carotid-mini/labelmaps2/img0001.png'"
     ]
    }
   ],
   "source": [
    "for k, anns in tqdm.tqdm(image_to_anns.items()):\n",
    "    # if k>1:\n",
    "        # break\n",
    "    # print(k)\n",
    "    # get a list of binary masks\n",
    "    masks = []\n",
    "    for ann in anns:\n",
    "        segm = ann['segmentation']\n",
    "        mask = cocosegm2mask(segm, segm['size'][0], segm['size'][1])\n",
    "        masks.append(mask)\n",
    "\n",
    "    # since anns are grouped per image, can get h,w, name from any ann in the list\n",
    "    h = anns[0]['height']\n",
    "    w = anns[0]['width']\n",
    "    # TODO: figure out a better way to get the actual filename of th eimage (stored in image_list)\n",
    "    # E.g. can build the original im_ann dictionary using image names, not ids\n",
    "    image_id = anns[0]['image_id'] \n",
    "    image_name = id_to_filename[image_id]\n",
    "    \n",
    "\n",
    "    # generate labelmaps\n",
    "    labelmap = masks2labelmap(masks, h, w)\n",
    "    image_to_labelmaps[k] = labelmap\n",
    "\n",
    "    # save labelmap\n",
    "    output_file = save_path + f'/{image_name}.png'\n",
    "    # Image.fromarray(labelmap).save(output_file)\n",
    "    labelmap_im = Image.fromarray(labelmap.astype(np.uint8)).convert('L')\n",
    "    # labelmap_im = Image.fromarray(np.uint8(labelmap*255)).convert('L')\n",
    "    # print(labelmap_im)\n",
    "    labelmap_im.save(output_file)\n",
    "    \n",
    "    \n",
    "\n",
    "    "
   ]
  },
  {
   "cell_type": "code",
   "execution_count": 59,
   "metadata": {},
   "outputs": [
    {
     "data": {
      "text/plain": [
       "<matplotlib.legend.Legend at 0x7f197988f8e0>"
      ]
     },
     "execution_count": 59,
     "metadata": {},
     "output_type": "execute_result"
    },
    {
     "data": {
      "image/png": "[encoded data removed]",
      "text/plain": [
       "<Figure size 640x480 with 1 Axes>"
      ]
     },
     "metadata": {},
     "output_type": "display_data"
    }
   ],
   "source": [
    "pred = image_to_labelmaps[12]\n",
    "\n",
    "values = np.unique(pred.ravel())\n",
    "im = plt.imshow(pred)\n",
    "plt.axis(False)\n",
    "colors = [ im.cmap(im.norm(value)) for value in values]\n",
    "# create a patch (proxy artist) for every color \n",
    "patches = [ mpatches.Patch(color=colors[i], label=\"{l}\".format(l=values[i]) ) for i in range(len(values)) ]\n",
    "# put those patched as legend-handles into the legend\n",
    "plt.legend(handles=patches, bbox_to_anchor=(1., 1), loc=2)"
   ]
  },
  {
   "cell_type": "code",
   "execution_count": 57,
   "metadata": {},
   "outputs": [],
   "source": [
    "# image_to_labelmaps[1]"
   ]
  },
  {
   "cell_type": "code",
   "execution_count": null,
   "metadata": {},
   "outputs": [],
   "source": []
  },
  {
   "cell_type": "code",
   "execution_count": null,
   "metadata": {},
   "outputs": [],
   "source": []
  }
 ],
 "metadata": {
  "kernelspec": {
   "display_name": "Python-3.8.12",
   "language": "python",
   "name": "python3"
  },
  "language_info": {
   "codemirror_mode": {
    "name": "ipython",
    "version": 3
   },
   "file_extension": ".py",
   "mimetype": "text/x-python",
   "name": "python",
   "nbconvert_exporter": "python",
   "pygments_lexer": "ipython3",
   "version": "3.8.12"
  },
  "orig_nbformat": 4
 },
 "nbformat": 4,
 "nbformat_minor": 2
}
